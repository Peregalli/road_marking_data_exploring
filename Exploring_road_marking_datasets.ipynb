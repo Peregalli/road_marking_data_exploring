{
 "cells": [
  {
   "cell_type": "code",
   "execution_count": null,
   "id": "8ff1f548",
   "metadata": {},
   "outputs": [],
   "source": [
    "import numpy as np\n",
    "import os\n",
    "import cv2 as cv\n",
    "import matplotlib.pyplot as plt\n",
    "from image_utils import *\n",
    "import json\n",
    "\n",
    "CURRENT_DPATH = os.path.abspath(os.path.dirname(\"__file__\"))\n",
    "DATA_ROOT = os.path.abspath(os.path.join(CURRENT_DPATH, os.pardir, 'Data'))\n"
   ]
  },
  {
   "cell_type": "markdown",
   "id": "92f47f44",
   "metadata": {},
   "source": [
    "## CeyMo"
   ]
  },
  {
   "cell_type": "code",
   "execution_count": null,
   "id": "6be59ff4",
   "metadata": {},
   "outputs": [],
   "source": [
    "dataset = 'CeyMo'\n",
    "folder_to_images = os.path.join(DATA_ROOT, dataset,'train/images')\n",
    "folder_to_labels = os.path.join(DATA_ROOT, dataset,'train/mask_annotations')\n",
    "\n",
    "image, mask = get_image_and_mask(folder_to_images, folder_to_labels)\n",
    "mask_with_labels = write_masks_labels(mask, dataset_name = 'CeyMo')\n",
    "\n",
    "overlay = overlay_mask(image, mask_with_labels, alpha = 0.4)[:,:,::-1]\n",
    "plt.figure(figsize = (5,5))\n",
    "plt.imshow(overlay)\n",
    "plt.axis('off')\n",
    "plt.savefig(f'{dataset}_example.png')\n"
   ]
  },
  {
   "cell_type": "markdown",
   "id": "19a6fcc4",
   "metadata": {},
   "source": [
    "## BDD100K"
   ]
  },
  {
   "cell_type": "code",
   "execution_count": null,
   "id": "842b3285",
   "metadata": {},
   "outputs": [],
   "source": [
    "dataset = 'bdd100k'\n",
    "folder_to_images = os.path.join(DATA_ROOT, dataset,'images/100k/val')\n",
    "folder_to_labels = os.path.join(DATA_ROOT, dataset,'labels/lane/colormaps/val')\n",
    "\n",
    "image, mask = get_image_and_mask(folder_to_images, folder_to_labels)\n",
    "mask_with_labels = write_masks_labels(mask, dataset_name = 'bdd100k')\n",
    "overlay = overlay_mask(image, mask_with_labels, alpha = 0.4)[:,:,::-1]\n",
    "plt.figure(figsize = (5,5))\n",
    "plt.imshow(overlay)\n",
    "plt.axis('off')\n",
    "plt.savefig(f'{dataset}_example.jpg')\n",
    "#cv.imwrite(f'example_{i}.jpg', overlay)"
   ]
  },
  {
   "cell_type": "markdown",
   "id": "6c546cd6",
   "metadata": {},
   "source": [
    "## Apolo Lane Marking"
   ]
  },
  {
   "cell_type": "code",
   "execution_count": null,
   "id": "dade8511",
   "metadata": {},
   "outputs": [],
   "source": [
    "dataset = 'ApoloScape - Lane Segmentation'\n",
    "road = 4\n",
    "record = 17\n",
    "camara = 5 #or 6\n",
    "folder_to_images = os.path.join(DATA_ROOT, dataset,f'Labels_road{road:02d}/Record{record:03d}/Camara{camara:02d}')\n",
    "folder_to_labels = os.path.join(DATA_ROOT, dataset,f'Labels_road{road:02d}/Record{record:03d}/Camara{camara:02d}')\n",
    "\n",
    "image, mask = get_image_and_mask(folder_to_images, folder_to_labels)\n",
    "mask_with_labels = write_masks_labels(mask, dataset_name = 'apolloscape_lanemark')\n",
    "\n",
    "overlay = overlay_mask(image, mask_with_labels, alpha = 0.4)[:,:,::-1]\n",
    "plt.imshow(overlay)\n",
    "plt.axis('off')"
   ]
  }
 ],
 "metadata": {
  "kernelspec": {
   "display_name": "Python 3 (ipykernel)",
   "language": "python",
   "name": "python3"
  },
  "language_info": {
   "codemirror_mode": {
    "name": "ipython",
    "version": 3
   },
   "file_extension": ".py",
   "mimetype": "text/x-python",
   "name": "python",
   "nbconvert_exporter": "python",
   "pygments_lexer": "ipython3",
   "version": "3.9.13"
  }
 },
 "nbformat": 4,
 "nbformat_minor": 5
}
